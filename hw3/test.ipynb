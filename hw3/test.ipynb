{
 "cells": [
  {
   "cell_type": "code",
   "execution_count": 20,
   "metadata": {},
   "outputs": [
    {
     "name": "stdout",
     "output_type": "stream",
     "text": [
      "[1.59964596 2.82000824]\n"
     ]
    }
   ],
   "source": [
    "import numpy as np\n",
    "from scipy.optimize import minimize, NonlinearConstraint\n",
    "\n",
    "# Define the function to minimize\n",
    "def f(x):\n",
    "    return -x[0] - x[1]\n",
    "\n",
    "# Define the nonlinear constraints\n",
    "def g1(x):\n",
    "    return -2*x[0]**4 + 8*x[0]**3 - 8*x[0]**2 + x[1] - 2\n",
    "\n",
    "def g2(x):\n",
    "    return -4*x[0]**4 + 32*x[0]**3 - 88*x[0]**2 + 96*x[0] + x[1] - 36\n",
    "\n",
    "# Define the Jacobian of the function\n",
    "def jac(x):\n",
    "    return np.array([-1.0, -1.0])\n",
    "\n",
    "# Define the Hessian of the function\n",
    "def hess(x):\n",
    "    return np.array([[0.0, 0.0], [0.0, 0.0]])\n",
    "\n",
    "# Create the NonlinearConstraint object\n",
    "nonlinear_constraint1 = NonlinearConstraint(g1, -np.inf, 0)\n",
    "nonlinear_constraint2 = NonlinearConstraint(g2, -np.inf, 0)\n",
    "\n",
    "# Use the minimize function to find the minimum\n",
    "result = minimize(f, x0=[1,1], jac=jac, hess=hess, constraints=[nonlinear_constraint1, nonlinear_constraint2],\n",
    "                  method=\"trust-constr\")\n",
    "\n",
    "# Print the minimum value\n",
    "print(result.x)\n"
   ]
  },
  {
   "cell_type": "code",
   "execution_count": 31,
   "metadata": {},
   "outputs": [
    {
     "name": "stdout",
     "output_type": "stream",
     "text": [
      "[0.61160344 3.44210482]\n"
     ]
    },
    {
     "name": "stderr",
     "output_type": "stream",
     "text": [
      "c:\\Users\\ASUS\\anaconda3\\lib\\site-packages\\scipy\\optimize\\_minimize.py:519: RuntimeWarning: Method COBYLA does not use gradient information (jac).\n",
      "  warn('Method %s does not use gradient information (jac).' % method,\n",
      "c:\\Users\\ASUS\\anaconda3\\lib\\site-packages\\scipy\\optimize\\_minimize.py:524: RuntimeWarning: Method COBYLA does not use Hessian information (hess).\n",
      "  warn('Method %s does not use Hessian information (hess).' % method,\n"
     ]
    }
   ],
   "source": [
    "import numpy as np\n",
    "from scipy.optimize import minimize, NonlinearConstraint\n",
    "\n",
    "# Define the function to minimize\n",
    "def f(x):\n",
    "    return -x[0] - x[1]\n",
    "\n",
    "# Define the nonlinear constraints\n",
    "def g1(x):\n",
    "    return -2*x[0]**4 + 8*x[0]**3 - 8*x[0]**2 + x[1] - 2\n",
    "\n",
    "def g2(x):\n",
    "    return -4*x[0]**4 + 32*x[0]**3 - 88*x[0]**2 + 96*x[0] + x[1] - 36\n",
    "\n",
    "# Define the Jacobian of the function\n",
    "def jac(x):\n",
    "    return [-1.0, -1.0]\n",
    "\n",
    "# Define the Hessian of the function\n",
    "def hess(x):\n",
    "    return [[0.0, 0.0], [0.0, 0.0]]\n",
    "\n",
    "# Create the NonlinearConstraint object\n",
    "nonlinear_constraint1 = NonlinearConstraint(g1, -np.inf, 0)\n",
    "nonlinear_constraint2 = NonlinearConstraint(g2, -np.inf, 0)\n",
    "\n",
    "# Use the minimize function to find the minimum\n",
    "result = minimize(f, x0=[0,0], jac=jac, hess=hess, constraints=[nonlinear_constraint1, nonlinear_constraint2],\n",
    "                  method=\"COBYLA\")\n",
    "\n",
    "# Print the minimum value\n",
    "print(result.x)"
   ]
  },
  {
   "cell_type": "code",
   "execution_count": 30,
   "metadata": {},
   "outputs": [
    {
     "name": "stdout",
     "output_type": "stream",
     "text": [
      "[0.61154806 3.44182139]\n"
     ]
    }
   ],
   "source": [
    "import numpy as np\n",
    "from scipy.optimize import minimize, NonlinearConstraint\n",
    "\n",
    "# Define the function to minimize\n",
    "def f(x):\n",
    "    return -x[0] - x[1]\n",
    "\n",
    "# Define the nonlinear constraints\n",
    "def g1(x):\n",
    "    return -2*x[0]**4 + 8*x[0]**3 - 8*x[0]**2 + x[1] - 2\n",
    "\n",
    "def g2(x):\n",
    "    return -4*x[0]**4 + 32*x[0]**3 - 88*x[0]**2 + 96*x[0] + x[1] - 36\n",
    "\n",
    "# Define the Jacobian of the function\n",
    "def jac(x):\n",
    "    return [-1.0, -1.0]\n",
    "\n",
    "# Define the Hessian of the function\n",
    "def hess(x):\n",
    "    return [[0.0, 0.0], [0.0, 0.0]]\n",
    "\n",
    "# Create the NonlinearConstraint object\n",
    "nonlinear_constraint1 = NonlinearConstraint(g1, -np.inf, 0)\n",
    "nonlinear_constraint2 = NonlinearConstraint(g2, -np.inf, 0)\n",
    "\n",
    "# Use the minimize function to find the minimum\n",
    "result = minimize(f, x0=[0,0], jac=jac, hess=hess, constraints=[nonlinear_constraint1,nonlinear_constraint2],\n",
    "                  method=\"trust-constr\")\n",
    "\n",
    "# Print the minimum value\n",
    "print(result.x)\n"
   ]
  },
  {
   "cell_type": "code",
   "execution_count": 1,
   "metadata": {},
   "outputs": [
    {
     "ename": "TypeError",
     "evalue": "'function' object is not iterable",
     "output_type": "error",
     "traceback": [
      "\u001b[1;31m---------------------------------------------------------------------------\u001b[0m",
      "\u001b[1;31mTypeError\u001b[0m                                 Traceback (most recent call last)",
      "\u001b[1;32m~\\AppData\\Local\\Temp/ipykernel_14912/3426964925.py\u001b[0m in \u001b[0;36m<module>\u001b[1;34m\u001b[0m\n\u001b[0;32m     18\u001b[0m \u001b[1;33m\u001b[0m\u001b[0m\n\u001b[0;32m     19\u001b[0m \u001b[1;31m# Use the minimize function to find the optimal values of x1 and x2\u001b[0m\u001b[1;33m\u001b[0m\u001b[1;33m\u001b[0m\u001b[1;33m\u001b[0m\u001b[0m\n\u001b[1;32m---> 20\u001b[1;33m \u001b[0mres\u001b[0m \u001b[1;33m=\u001b[0m \u001b[0mminimize\u001b[0m\u001b[1;33m(\u001b[0m\u001b[0mobjective\u001b[0m\u001b[1;33m,\u001b[0m \u001b[0mx0\u001b[0m\u001b[1;33m,\u001b[0m \u001b[0mconstraints\u001b[0m\u001b[1;33m=\u001b[0m\u001b[0mconstraints\u001b[0m\u001b[1;33m)\u001b[0m\u001b[1;33m\u001b[0m\u001b[1;33m\u001b[0m\u001b[0m\n\u001b[0m\u001b[0;32m     21\u001b[0m \u001b[1;33m\u001b[0m\u001b[0m\n\u001b[0;32m     22\u001b[0m \u001b[1;31m# Print the optimal values of x1 and x2\u001b[0m\u001b[1;33m\u001b[0m\u001b[1;33m\u001b[0m\u001b[1;33m\u001b[0m\u001b[0m\n",
      "\u001b[1;32mc:\\Users\\ASUS\\anaconda3\\lib\\site-packages\\scipy\\optimize\\_minimize.py\u001b[0m in \u001b[0;36mminimize\u001b[1;34m(fun, x0, args, method, jac, hess, hessp, bounds, constraints, tol, callback, options)\u001b[0m\n\u001b[0;32m    603\u001b[0m \u001b[1;33m\u001b[0m\u001b[0m\n\u001b[0;32m    604\u001b[0m     \u001b[1;32mif\u001b[0m \u001b[0mconstraints\u001b[0m \u001b[1;32mis\u001b[0m \u001b[1;32mnot\u001b[0m \u001b[1;32mNone\u001b[0m\u001b[1;33m:\u001b[0m\u001b[1;33m\u001b[0m\u001b[1;33m\u001b[0m\u001b[0m\n\u001b[1;32m--> 605\u001b[1;33m         \u001b[0mconstraints\u001b[0m \u001b[1;33m=\u001b[0m \u001b[0mstandardize_constraints\u001b[0m\u001b[1;33m(\u001b[0m\u001b[0mconstraints\u001b[0m\u001b[1;33m,\u001b[0m \u001b[0mx0\u001b[0m\u001b[1;33m,\u001b[0m \u001b[0mmeth\u001b[0m\u001b[1;33m)\u001b[0m\u001b[1;33m\u001b[0m\u001b[1;33m\u001b[0m\u001b[0m\n\u001b[0m\u001b[0;32m    606\u001b[0m \u001b[1;33m\u001b[0m\u001b[0m\n\u001b[0;32m    607\u001b[0m     \u001b[1;32mif\u001b[0m \u001b[0mmeth\u001b[0m \u001b[1;33m==\u001b[0m \u001b[1;34m'nelder-mead'\u001b[0m\u001b[1;33m:\u001b[0m\u001b[1;33m\u001b[0m\u001b[1;33m\u001b[0m\u001b[0m\n",
      "\u001b[1;32mc:\\Users\\ASUS\\anaconda3\\lib\\site-packages\\scipy\\optimize\\_minimize.py\u001b[0m in \u001b[0;36mstandardize_constraints\u001b[1;34m(constraints, x0, meth)\u001b[0m\n\u001b[0;32m    823\u001b[0m     \u001b[1;32mif\u001b[0m \u001b[0misinstance\u001b[0m\u001b[1;33m(\u001b[0m\u001b[0mconstraints\u001b[0m\u001b[1;33m,\u001b[0m \u001b[0mall_constraint_types\u001b[0m\u001b[1;33m)\u001b[0m\u001b[1;33m:\u001b[0m\u001b[1;33m\u001b[0m\u001b[1;33m\u001b[0m\u001b[0m\n\u001b[0;32m    824\u001b[0m         \u001b[0mconstraints\u001b[0m \u001b[1;33m=\u001b[0m \u001b[1;33m[\u001b[0m\u001b[0mconstraints\u001b[0m\u001b[1;33m]\u001b[0m\u001b[1;33m\u001b[0m\u001b[1;33m\u001b[0m\u001b[0m\n\u001b[1;32m--> 825\u001b[1;33m     \u001b[0mconstraints\u001b[0m \u001b[1;33m=\u001b[0m \u001b[0mlist\u001b[0m\u001b[1;33m(\u001b[0m\u001b[0mconstraints\u001b[0m\u001b[1;33m)\u001b[0m  \u001b[1;31m# ensure it's a mutable sequence\u001b[0m\u001b[1;33m\u001b[0m\u001b[1;33m\u001b[0m\u001b[0m\n\u001b[0m\u001b[0;32m    826\u001b[0m \u001b[1;33m\u001b[0m\u001b[0m\n\u001b[0;32m    827\u001b[0m     \u001b[1;32mif\u001b[0m \u001b[0mmeth\u001b[0m \u001b[1;33m==\u001b[0m \u001b[1;34m'trust-constr'\u001b[0m\u001b[1;33m:\u001b[0m\u001b[1;33m\u001b[0m\u001b[1;33m\u001b[0m\u001b[0m\n",
      "\u001b[1;31mTypeError\u001b[0m: 'function' object is not iterable"
     ]
    }
   ],
   "source": [
    "import numpy as np\n",
    "from scipy.optimize import minimize\n",
    "\n",
    "# Define the objective function\n",
    "def objective(x):\n",
    "    x1 = x[0]\n",
    "    x2 = x[1]\n",
    "    return -x1 - x2\n",
    "\n",
    "# Define the constraints\n",
    "def constraints(x):\n",
    "    x1 = x[0]\n",
    "    x2 = x[1]\n",
    "    return [-2*x1**4 + 8*x1**3 - 8*x1**2 + x2 - 2, -4*x1**4 + 32*x1**3 - 88*x1**2 + 96*x1 + x2 - 36]\n",
    "\n",
    "# Set the initial values for the variables\n",
    "x0 = [0, 0]\n",
    "\n",
    "# Use the minimize function to find the optimal values of x1 and x2\n",
    "res = minimize(objective, x0, constraints=constraints)\n",
    "\n",
    "# Print the optimal values of x1 and x2\n",
    "print(res.x)"
   ]
  }
 ],
 "metadata": {
  "kernelspec": {
   "display_name": "base",
   "language": "python",
   "name": "python3"
  },
  "language_info": {
   "codemirror_mode": {
    "name": "ipython",
    "version": 3
   },
   "file_extension": ".py",
   "mimetype": "text/x-python",
   "name": "python",
   "nbconvert_exporter": "python",
   "pygments_lexer": "ipython3",
   "version": "3.8.8"
  },
  "orig_nbformat": 4,
  "vscode": {
   "interpreter": {
    "hash": "a90aeebcf29d64a654773811cc170cb25061cb2498f10ac689db374c7bf325de"
   }
  }
 },
 "nbformat": 4,
 "nbformat_minor": 2
}
